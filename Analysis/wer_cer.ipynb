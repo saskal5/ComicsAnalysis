{
 "cells": [
  {
   "cell_type": "code",
   "execution_count": 298,
   "id": "ce5120f6",
   "metadata": {},
   "outputs": [],
   "source": [
    "import pandas as pd\n",
    "import numpy as np\n",
    "from jiwer import wer, cer, mer\n",
    "from string import digits"
   ]
  },
  {
   "cell_type": "code",
   "execution_count": 394,
   "id": "ca9df064",
   "metadata": {},
   "outputs": [
    {
     "data": {
      "text/html": [
       "<div>\n",
       "<style scoped>\n",
       "    .dataframe tbody tr th:only-of-type {\n",
       "        vertical-align: middle;\n",
       "    }\n",
       "\n",
       "    .dataframe tbody tr th {\n",
       "        vertical-align: top;\n",
       "    }\n",
       "\n",
       "    .dataframe thead th {\n",
       "        text-align: right;\n",
       "    }\n",
       "</style>\n",
       "<table border=\"1\" class=\"dataframe\">\n",
       "  <thead>\n",
       "    <tr style=\"text-align: right;\">\n",
       "      <th></th>\n",
       "      <th>DETECTED_TEXT</th>\n",
       "      <th>GROUND_TRUTH</th>\n",
       "    </tr>\n",
       "  </thead>\n",
       "  <tbody>\n",
       "    <tr>\n",
       "      <th>0</th>\n",
       "      <td>1.12</td>\n",
       "      <td>!?</td>\n",
       "    </tr>\n",
       "    <tr>\n",
       "      <th>1</th>\n",
       "      <td>A thousand curses. prisoner is gone.</td>\n",
       "      <td>A thousand curses! Prisoner is gone! ...</td>\n",
       "    </tr>\n",
       "    <tr>\n",
       "      <th>2</th>\n",
       "      <td>My poor snowy!. Did those beasts flatten him?.</td>\n",
       "      <td>My poor Snowy!… Did those beasts flatten him?</td>\n",
       "    </tr>\n",
       "    <tr>\n",
       "      <th>3</th>\n",
       "      <td>here we are. Snowy!</td>\n",
       "      <td>Here we are Snowy! ... Chicago!</td>\n",
       "    </tr>\n",
       "    <tr>\n",
       "      <th>4</th>\n",
       "      <td>Beaten! He's defeated again! me unless</td>\n",
       "      <td>Beaten! He's defeated me again! ... Unless ...</td>\n",
       "    </tr>\n",
       "  </tbody>\n",
       "</table>\n",
       "</div>"
      ],
      "text/plain": [
       "                                    DETECTED_TEXT  \\\n",
       "0                                            1.12   \n",
       "1            A thousand curses. prisoner is gone.   \n",
       "2  My poor snowy!. Did those beasts flatten him?.   \n",
       "3                             here we are. Snowy!   \n",
       "4          Beaten! He's defeated again! me unless   \n",
       "\n",
       "                                     GROUND_TRUTH  \n",
       "0                                              !?  \n",
       "1        A thousand curses! Prisoner is gone! ...  \n",
       "2   My poor Snowy!… Did those beasts flatten him?  \n",
       "3                 Here we are Snowy! ... Chicago!  \n",
       "4  Beaten! He's defeated me again! ... Unless ...  "
      ]
     },
     "execution_count": 394,
     "metadata": {},
     "output_type": "execute_result"
    }
   ],
   "source": [
    "df = pd.read_csv('text_evaluation_data.csv', sep=\";\")\n",
    "df.head()"
   ]
  },
  {
   "cell_type": "code",
   "execution_count": 395,
   "id": "44a71436",
   "metadata": {},
   "outputs": [],
   "source": [
    "df.loc[pd.isna(df['DETECTED_TEXT']) == 1, \"DETECTED_TEXT\"] = \"\""
   ]
  },
  {
   "cell_type": "code",
   "execution_count": 396,
   "id": "231c14e5",
   "metadata": {},
   "outputs": [],
   "source": [
    "wer_values = []\n",
    "cer_values = []\n",
    "counter_0 = 0\n",
    "counter_01 = 0\n",
    "counter_02 = 0\n",
    "counter_05 = 0\n",
    "counter_worst = 0\n",
    "\n",
    "for i in range(len(df)):\n",
    "    hypo = df[\"DETECTED_TEXT\"][i]\n",
    "    ref = df[\"GROUND_TRUTH\"][i]\n",
    "    \n",
    "    cer_i = np.where(cer(ref, hypo) > 1, 1, cer(ref, hypo))\n",
    "    wer_i = np.where(wer(ref, hypo) > 1, 1, wer(ref, hypo))\n",
    "    \n",
    "    if wer_i == 0:\n",
    "        counter_0 += 1\n",
    "    elif wer_i < 0.1:\n",
    "        counter_01 += 1\n",
    "    elif wer_i < 0.2:\n",
    "        counter_02 += 1\n",
    "    elif wer_i < 0.5:\n",
    "        counter_05 += 1\n",
    "    else:\n",
    "        counter_worst += 1\n",
    "    \n",
    "    #print(i,\"WER\", wer_i)\n",
    "    #print(i, \"CER\", cer_i)\n",
    "    \n",
    "    wer_values.append(wer_i)\n",
    "    cer_values.append(cer_i)"
   ]
  },
  {
   "cell_type": "code",
   "execution_count": 397,
   "id": "c3e7a3ad",
   "metadata": {},
   "outputs": [
    {
     "name": "stdout",
     "output_type": "stream",
     "text": [
      "14 5 19 63 83\n"
     ]
    }
   ],
   "source": [
    "print(counter_0, counter_01, counter_02, counter_05, counter_worst)"
   ]
  },
  {
   "cell_type": "code",
   "execution_count": 398,
   "id": "27a8adba",
   "metadata": {},
   "outputs": [
    {
     "data": {
      "text/plain": [
       "0.4836415842966014"
      ]
     },
     "execution_count": 398,
     "metadata": {},
     "output_type": "execute_result"
    }
   ],
   "source": [
    "np.mean(wer_values)"
   ]
  },
  {
   "cell_type": "code",
   "execution_count": 399,
   "id": "93320f65",
   "metadata": {},
   "outputs": [
    {
     "data": {
      "text/plain": [
       "0.27888075993272465"
      ]
     },
     "execution_count": 399,
     "metadata": {},
     "output_type": "execute_result"
    }
   ],
   "source": [
    "np.mean(cer_values)"
   ]
  },
  {
   "cell_type": "code",
   "execution_count": 406,
   "id": "b9adcf6b",
   "metadata": {},
   "outputs": [],
   "source": [
    "df_clean = df.copy()"
   ]
  },
  {
   "cell_type": "code",
   "execution_count": 407,
   "id": "5323b2db",
   "metadata": {},
   "outputs": [],
   "source": [
    "for i, text in enumerate(df_clean[\"DETECTED_TEXT\"]):\n",
    "    gt = df_clean[\"GROUND_TRUTH\"][i].lower()\n",
    "    gt = gt.replace(\".\", \"\").replace(\",\", \"\").replace(\"'\", \"\").replace(\"!\", \"\").replace(\"?\", \"\").replace('\"', '')\n",
    "    gt = gt.replace(\"\\\\\", \"\").replace(\"-\", \" \").replace(\":\", \"\").replace(\".\", \"\")\n",
    "    remove_digits = str.maketrans('', '', digits)\n",
    "    gt = gt.translate(remove_digits)\n",
    "    df_clean[\"GROUND_TRUTH\"][i] = gt\n",
    "\n",
    "    text = text.lower()\n",
    "    text = text.replace(\".\", \"\").replace(\",\", \"\").replace(\"'\", \"\").replace(\"!\", \"\").replace(\"?\", \"\").replace('\"', '')\n",
    "    text = text.replace(\"\\\\\", \"\").replace(\"-\", \" \").replace(\":\", \"\").replace(\".\", \"\")\n",
    "    remove_digits = str.maketrans('', '', digits)\n",
    "    text = text.translate(remove_digits)\n",
    "    df_clean[\"DETECTED_TEXT\"][i] = text"
   ]
  },
  {
   "cell_type": "code",
   "execution_count": 408,
   "id": "719ee14d",
   "metadata": {},
   "outputs": [],
   "source": [
    "df_clean.loc[(df_clean['GROUND_TRUTH'] == \" \") & (df_clean['DETECTED_TEXT'] != \"\"), \"GROUND_TRUTH\"] = \"nAn\""
   ]
  },
  {
   "cell_type": "code",
   "execution_count": 409,
   "id": "4b753b55",
   "metadata": {},
   "outputs": [],
   "source": [
    "wer_values = []\n",
    "cer_values = []\n",
    "counter_0 = 0\n",
    "counter_01 = 0\n",
    "counter_02 = 0\n",
    "counter_05 = 0\n",
    "counter_worst = 0\n",
    "\n",
    "for i in range(len(df_clean)):\n",
    "    hypo = df_clean[\"DETECTED_TEXT\"][i]\n",
    "    ref = df_clean[\"GROUND_TRUTH\"][i]\n",
    "    \n",
    "    if hypo == ref:\n",
    "        cer_i = 0\n",
    "        wer_i = 0\n",
    "        counter_0 += 1\n",
    "    else:\n",
    "        cer_i = np.where(cer(ref, hypo) > 1, 1, cer(ref, hypo))\n",
    "        wer_i = np.where(wer(ref, hypo) > 1, 1, wer(ref, hypo))\n",
    "        \n",
    "        if wer_i < 0.1:\n",
    "            counter_01 += 1\n",
    "        elif wer_i < 0.2:\n",
    "            counter_02 += 1\n",
    "        elif wer_i < 0.5:\n",
    "            counter_05 += 1\n",
    "        else:\n",
    "            counter_worst += 1\n",
    "        \n",
    "        \n",
    "    \n",
    "    #print(i,\"WER\", wer_i)\n",
    "    #print(i, \"CER\", cer_i)\n",
    "    \n",
    "    wer_values.append(wer_i)\n",
    "    cer_values.append(cer_i)"
   ]
  },
  {
   "cell_type": "code",
   "execution_count": 410,
   "id": "311c05ba",
   "metadata": {},
   "outputs": [
    {
     "data": {
      "text/plain": [
       "0.23970806613603604"
      ]
     },
     "execution_count": 410,
     "metadata": {},
     "output_type": "execute_result"
    }
   ],
   "source": [
    "np.mean(wer_values)"
   ]
  },
  {
   "cell_type": "code",
   "execution_count": 411,
   "id": "f88f4f7e",
   "metadata": {},
   "outputs": [
    {
     "data": {
      "text/plain": [
       "0.17927724818980512"
      ]
     },
     "execution_count": 411,
     "metadata": {},
     "output_type": "execute_result"
    }
   ],
   "source": [
    "np.mean(cer_values)"
   ]
  },
  {
   "cell_type": "code",
   "execution_count": 412,
   "id": "8e575665",
   "metadata": {},
   "outputs": [
    {
     "name": "stdout",
     "output_type": "stream",
     "text": [
      "58 16 26 58 26\n"
     ]
    }
   ],
   "source": [
    "print(counter_0, counter_01, counter_02, counter_05, counter_worst)"
   ]
  },
  {
   "cell_type": "code",
   "execution_count": null,
   "id": "99008b0f",
   "metadata": {},
   "outputs": [],
   "source": []
  },
  {
   "cell_type": "code",
   "execution_count": null,
   "id": "429aa521",
   "metadata": {},
   "outputs": [],
   "source": []
  }
 ],
 "metadata": {
  "kernelspec": {
   "display_name": "Python 3 (ipykernel)",
   "language": "python",
   "name": "python3"
  },
  "language_info": {
   "codemirror_mode": {
    "name": "ipython",
    "version": 3
   },
   "file_extension": ".py",
   "mimetype": "text/x-python",
   "name": "python",
   "nbconvert_exporter": "python",
   "pygments_lexer": "ipython3",
   "version": "3.10.9"
  }
 },
 "nbformat": 4,
 "nbformat_minor": 5
}
